{
 "cells": [
  {
   "cell_type": "code",
   "execution_count": 1,
   "id": "2abbd4b5",
   "metadata": {},
   "outputs": [],
   "source": [
    "def create_new_graph(G):\n",
    "    new_G = nx.Graph()\n",
    "    for node in G.nodes(data=True):\n",
    "        grupos = node[1]['grupos']\n",
    "        for grupo in grupos:\n",
    "            grupo = grupo.strip()\n",
    "            if grupo.endswith(', Los') or grupo.endswith(', Las'):\n",
    "                grupo = grupo.split(', ')[1] + ' ' + grupo.split(', ')[0]\n",
    "            if new_G.has_node(grupo):\n",
    "                new_G.nodes[grupo]['miembros'].add(node[0])\n",
    "            else:\n",
    "                new_G.add_node(grupo, miembros={node[0]})\n",
    "    \n",
    "    for node1 in new_G.nodes(data=True):\n",
    "        for node2 in new_G.nodes(data=True):\n",
    "            if node1 != node2:\n",
    "                common_members = len(node1[1]['miembros'].intersection(node2[1]['miembros']))\n",
    "                if common_members > 0:\n",
    "                    new_G.add_edge(node1[0], node2[0], weight=common_members)\n",
    "    \n",
    "    pos = nx.circular_layout(new_G)\n",
    "    node_sizes = [len(new_G.nodes[node]['miembros'])*100 for node in new_G.nodes()]\n",
    "    edge_widths = [new_G[u][v]['weight'] for u,v in new_G.edges()]\n",
    "    nx.draw(new_G, pos, node_color='red', edge_color='blue', with_labels=False, node_size=node_sizes, width=edge_widths)\n",
    "    labels = {node: node.title() for node in new_G.nodes()}\n",
    "    nx.draw_networkx_labels(\n",
    "        new_G,\n",
    "        pos,\n",
    "        labels,\n",
    "        font_size=10,\n",
    "        font_color='black',\n",
    "        bbox=dict(facecolor='white', alpha=0.9))\n",
    "    \n",
    "    plt.title('Conexiones entre agrupaciones Gaiteras', fontsize=20)\n",
    "    \n",
    "    plt.show()\n"
   ]
  },
  {
   "cell_type": "code",
   "execution_count": 2,
   "id": "1e664eb7",
   "metadata": {},
   "outputs": [
    {
     "ename": "NameError",
     "evalue": "name 'plt' is not defined",
     "output_type": "error",
     "traceback": [
      "\u001b[1;31m---------------------------------------------------------------------------\u001b[0m",
      "\u001b[1;31mNameError\u001b[0m                                 Traceback (most recent call last)",
      "Cell \u001b[1;32mIn[2], line 1\u001b[0m\n\u001b[1;32m----> 1\u001b[0m fig \u001b[38;5;241m=\u001b[39m \u001b[43mplt\u001b[49m\u001b[38;5;241m.\u001b[39mfigure(figsize\u001b[38;5;241m=\u001b[39m(\u001b[38;5;241m12\u001b[39m,\u001b[38;5;241m12\u001b[39m))\n\u001b[0;32m      3\u001b[0m create_new_graph(G_agru)\n",
      "\u001b[1;31mNameError\u001b[0m: name 'plt' is not defined"
     ]
    }
   ],
   "source": [
    "fig = plt.figure(figsize=(12,12))\n",
    "\n",
    "create_new_graph(G_agru)"
   ]
  },
  {
   "cell_type": "code",
   "execution_count": 3,
   "id": "abb757d8",
   "metadata": {},
   "outputs": [],
   "source": [
    "def create_new_graph(G):\n",
    "    new_G = nx.Graph()\n",
    "    for node in G.nodes(data=True):\n",
    "        grupos = node[1]['grupos']\n",
    "        for grupo in grupos:\n",
    "            grupo = grupo.strip()\n",
    "            if grupo.endswith(', Los') or grupo.endswith(', Las'):\n",
    "                grupo = grupo.split(', ')[1] + ' ' + grupo.split(', ')[0]\n",
    "            if new_G.has_node(grupo):\n",
    "                new_G.nodes[grupo]['miembros'].add(node[0])\n",
    "            else:\n",
    "                new_G.add_node(grupo, miembros={node[0]})\n",
    "    \n",
    "    for node1 in new_G.nodes(data=True):\n",
    "        for node2 in new_G.nodes(data=True):\n",
    "            if node1 != node2:\n",
    "                common_members = len(node1[1]['miembros'].intersection(node2[1]['miembros']))\n",
    "                if common_members > 0:\n",
    "                    new_G.add_edge(node1[0], node2[0], weight=common_members)\n",
    "                    \n",
    "    return new_G\n",
    "\n",
    "def plot_top_3_most_connected(G):\n",
    "    degree_sequence = [d for n, d in G.degree()]\n",
    "    degree_sequence.sort()\n",
    "    top_3_degree = degree_sequence[-3:]\n",
    "    pos = nx.kamada_kawai_layout(G)\n",
    "    node_colors = ['gray' if G.degree(node) not in top_3_degree else 'red' for node in G.nodes()]\n",
    "    edge_colors = ['gray' if G[u][v]['weight'] not in top_3_degree else 'blue' for u,v in G.edges()]\n",
    "    node_sizes = [len(G.nodes[node]['miembros'])*100 for node in G.nodes()]\n",
    "    edge_widths = [G[u][v]['weight'] for u,v in G.edges()]\n",
    "    nx.draw(G, pos, node_color=node_colors, edge_color=edge_colors, with_labels=False, node_size=node_sizes, width=edge_widths)\n",
    "    labels = {node: node.title() for node in G.nodes()}\n",
    "    nx.draw_networkx_labels(G, pos, labels, font_size=10, font_color='white', bbox=dict(facecolor='black', alpha=0.5))\n",
    "    plt.show()"
   ]
  },
  {
   "cell_type": "code",
   "execution_count": 4,
   "id": "b45aee8a",
   "metadata": {},
   "outputs": [
    {
     "ename": "NameError",
     "evalue": "name 'G' is not defined",
     "output_type": "error",
     "traceback": [
      "\u001b[1;31m---------------------------------------------------------------------------\u001b[0m",
      "\u001b[1;31mNameError\u001b[0m                                 Traceback (most recent call last)",
      "Cell \u001b[1;32mIn[4], line 1\u001b[0m\n\u001b[1;32m----> 1\u001b[0m G_grupos \u001b[38;5;241m=\u001b[39m create_new_graph(\u001b[43mG\u001b[49m)\n",
      "\u001b[1;31mNameError\u001b[0m: name 'G' is not defined"
     ]
    }
   ],
   "source": [
    "G_grupos = create_new_graph(G)"
   ]
  },
  {
   "cell_type": "code",
   "execution_count": 5,
   "id": "ebbb4fb7",
   "metadata": {},
   "outputs": [
    {
     "ename": "NameError",
     "evalue": "name 'plt' is not defined",
     "output_type": "error",
     "traceback": [
      "\u001b[1;31m---------------------------------------------------------------------------\u001b[0m",
      "\u001b[1;31mNameError\u001b[0m                                 Traceback (most recent call last)",
      "Cell \u001b[1;32mIn[5], line 1\u001b[0m\n\u001b[1;32m----> 1\u001b[0m fig \u001b[38;5;241m=\u001b[39m \u001b[43mplt\u001b[49m\u001b[38;5;241m.\u001b[39mfigure(figsize\u001b[38;5;241m=\u001b[39m(\u001b[38;5;241m12\u001b[39m,\u001b[38;5;241m12\u001b[39m))\n\u001b[0;32m      3\u001b[0m plot_top_3_most_connected(G_grupos)\n",
      "\u001b[1;31mNameError\u001b[0m: name 'plt' is not defined"
     ]
    }
   ],
   "source": [
    "fig = plt.figure(figsize=(12,12))\n",
    "\n",
    "plot_top_3_most_connected(G_grupos)"
   ]
  },
  {
   "cell_type": "code",
   "execution_count": null,
   "id": "09defb5d",
   "metadata": {},
   "outputs": [],
   "source": []
  }
 ],
 "metadata": {
  "kernelspec": {
   "display_name": "GAITAS_VENV",
   "language": "python",
   "name": "gaitas_venv"
  },
  "language_info": {
   "codemirror_mode": {
    "name": "ipython",
    "version": 3
   },
   "file_extension": ".py",
   "mimetype": "text/x-python",
   "name": "python",
   "nbconvert_exporter": "python",
   "pygments_lexer": "ipython3",
   "version": "3.8.10"
  }
 },
 "nbformat": 4,
 "nbformat_minor": 5
}
